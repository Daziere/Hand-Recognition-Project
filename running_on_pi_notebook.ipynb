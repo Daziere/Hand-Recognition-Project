{
 "cells": [
  {
   "cell_type": "markdown",
   "id": "1f8834d0",
   "metadata": {},
   "source": [
    "# Running the model on the raspberry pi"
   ]
  },
  {
   "cell_type": "markdown",
   "id": "05298ea6",
   "metadata": {},
   "source": [
    "All the imports needed to run the raspberry successfully. The version of tensor flow used in this was tensorflow 2, and opencv 4.6.\n",
    "To get Tensorflow and open CV I used the link below:\n",
    "https://www.youtube.com/watch?v=vekblEk6UPc&t=872s"
   ]
  },
  {
   "cell_type": "code",
   "execution_count": null,
   "id": "18ebe7db",
   "metadata": {},
   "outputs": [],
   "source": [
    "import numpy as np\n",
    "from skimage import img_as_ubyte\n",
    "from skimage.color import rgb2gray\n",
    "import cv2\n",
    "import imutils\n",
    "import time\n",
    "from time import sleep\n",
    "from imutils.video import VideoStream\n",
    "import tensorflow as tf\n",
    "from tensorflow import keras\n",
    "from sense_hat import SenseHat\n",
    "from picamera import PiCamera"
   ]
  },
  {
   "cell_type": "markdown",
   "id": "85f3f673",
   "metadata": {},
   "source": [
    "def read_image(file_path) reads image file at file_path, cv2.imread loads the image in file_path, and then it gets returned downsized."
   ]
  },
  {
   "cell_type": "code",
   "execution_count": null,
   "id": "b06afce6",
   "metadata": {},
   "outputs": [],
   "source": [
    "def read_image(file_path):\n",
    "  img = cv2.imread(file_path, cv2.IMREAD_COLOR)\n",
    "  return cv2.resize(img, (28, 28),interpolation=cv2.INTER_CUBIC)\n"
   ]
  },
  {
   "cell_type": "markdown",
   "id": "989fba6d",
   "metadata": {},
   "source": [
    "Initializes the camera."
   ]
  },
  {
   "cell_type": "code",
   "execution_count": null,
   "id": "c7e1305e",
   "metadata": {},
   "outputs": [],
   "source": [
    "camera = PiCamera() #initalizes camera"
   ]
  },
  {
   "cell_type": "markdown",
   "id": "854552d7",
   "metadata": {},
   "source": [
    "This sets up the sense hat for use. For more information use the link below:\n",
    "https://forums.raspberrypi.com/viewtopic.php?t=293163\n"
   ]
  },
  {
   "cell_type": "code",
   "execution_count": null,
   "id": "8824620e",
   "metadata": {},
   "outputs": [],
   "source": [
    "sense = SenseHat()\n",
    "sense.set_rotation(180)\n",
    "sense.low_light = True"
   ]
  },
  {
   "cell_type": "markdown",
   "id": "fc38ba2a",
   "metadata": {},
   "source": [
    "This loads the saved model."
   ]
  },
  {
   "cell_type": "code",
   "execution_count": null,
   "id": "d16e58cc",
   "metadata": {},
   "outputs": [],
   "source": [
    "model= keras.models.load_model(\"final_trained_model\")"
   ]
  },
  {
   "cell_type": "markdown",
   "id": "73659322",
   "metadata": {},
   "source": [
    "This is code that infinitly runs the pi camera and processes the information from the pi camera.\n",
    "If more information is needed on camera function:\n",
    "https://picamera.readthedocs.io/en/release-1.13/api_camera.html\n"
   ]
  },
  {
   "cell_type": "code",
   "execution_count": null,
   "id": "4788a361",
   "metadata": {},
   "outputs": [],
   "source": [
    "while True:\n",
    "    \n",
    "    sense.clear()\n",
    "    \n",
    "    camera.start_preview()#starts the camera preview as a delay\n",
    "    sleep(3)\n",
    "    \n",
    "    camera.stop_preview()#stops the preview shown\n",
    "    camera.capture('/home/pi/project/image.jpg')   \n",
    "    \n",
    "    img = read_image('/home/pi/project/image.jpg')\n",
    "    \n",
    "    \n",
    "    gray_img = cv2.cvtColor(img, cv2.COLOR_RGB2GRAY)#coverts color spaces\n",
    "    gray_img = cv2.resize(gray_img, (28, 28))\n",
    "    gray_img = cv2.bitwise_not(gray_img)#inverts the array elements\n",
    "\n",
    "    X_img = gray_img.reshape(1, 28, 28, 1)/255\n",
    "    pred = model.predict(X_img)#runs the prediction model through the model made\n",
    "    smpl_pred = np.argmax(pred, axis=-1)\n",
    "    temp = pred[0, int(smpl_pred)]*100\n",
    "    conf = str(int(temp))\n",
    "    conf = conf + '%'\n",
    "\n",
    "    num = str(smpl_pred)\n",
    "    sense.show_message(num, text_colour=(0,0,255))#sets the color\n",
    "    sleep(3)\n",
    "    sense.show_message(conf, text_colour=(0,0,255))\n",
    "    sense.clear()\n",
    "    \n",
    "    print(num)#prints the number on the display incase its missed from when it shows on the sense hat\n",
    "    input(\"next\")"
   ]
  }
 ],
 "metadata": {
  "kernelspec": {
   "display_name": "Python 3 (ipykernel)",
   "language": "python",
   "name": "python3"
  },
  "language_info": {
   "codemirror_mode": {
    "name": "ipython",
    "version": 3
   },
   "file_extension": ".py",
   "mimetype": "text/x-python",
   "name": "python",
   "nbconvert_exporter": "python",
   "pygments_lexer": "ipython3",
   "version": "3.7.13"
  }
 },
 "nbformat": 4,
 "nbformat_minor": 5
}
