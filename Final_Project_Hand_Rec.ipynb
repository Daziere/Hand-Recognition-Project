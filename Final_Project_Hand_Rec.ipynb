{
 "cells": [
  {
   "cell_type": "markdown",
   "id": "c528077a",
   "metadata": {},
   "source": [
    "# Number Recognition Project"
   ]
  },
  {
   "cell_type": "markdown",
   "id": "56c3ea2f",
   "metadata": {},
   "source": [
    "All the programs that need to be imported/called upon."
   ]
  },
  {
   "cell_type": "code",
   "execution_count": 23,
   "id": "b317ff74",
   "metadata": {},
   "outputs": [],
   "source": [
    "import os\n",
    "import numpy as np\n",
    "from tensorflow import keras\n",
    "from tensorflow.keras import layers\n",
    "from keras.datasets import mnist\n",
    "from keras.preprocessing.image import ImageDataGenerator\n",
    "from matplotlib import pyplot\n",
    "import matplotlib.pyplot as plt\n",
    "from keras.layers import Conv2D\n",
    "from keras.layers import MaxPooling2D\n",
    "from keras.layers import Flatten\n",
    "from keras.models import Sequential, Model"
   ]
  },
  {
   "cell_type": "markdown",
   "id": "c7ee3571",
   "metadata": {},
   "source": [
    "### Initialization"
   ]
  },
  {
   "cell_type": "markdown",
   "id": "d099e289",
   "metadata": {},
   "source": [
    "There are 10 numbers are we are going to train the system to recognize 0 - 9 due to that we initialize the classes to 10, and we will be feeding the images as a 28x28x1 which is why we initialize the input shape. "
   ]
  },
  {
   "cell_type": "code",
   "execution_count": 2,
   "id": "ff38e3bd",
   "metadata": {},
   "outputs": [],
   "source": [
    "classes = 10 #initializing the number of classes we will have\n",
    "input_shape = (28, 28, 1)"
   ]
  },
  {
   "cell_type": "markdown",
   "id": "106db592",
   "metadata": {},
   "source": [
    "### Split between test and train data"
   ]
  },
  {
   "cell_type": "markdown",
   "id": "7ed811a5",
   "metadata": {},
   "source": [
    "This splits the data between training and testing."
   ]
  },
  {
   "cell_type": "code",
   "execution_count": 3,
   "id": "d8b50d73",
   "metadata": {},
   "outputs": [],
   "source": [
    "(x_train, y_train), (x_test, y_test) = keras.datasets.mnist.load_data()"
   ]
  },
  {
   "cell_type": "markdown",
   "id": "3578eeda",
   "metadata": {},
   "source": [
    "### Parameters"
   ]
  },
  {
   "cell_type": "markdown",
   "id": "c8aa19fb",
   "metadata": {},
   "source": [
    "This makes sure the data has the correct parameters needed."
   ]
  },
  {
   "cell_type": "code",
   "execution_count": 4,
   "id": "fc67944d",
   "metadata": {},
   "outputs": [
    {
     "name": "stdout",
     "output_type": "stream",
     "text": [
      "x_train shape: (60000, 28, 28, 1)\n",
      "60000 train samples\n",
      "10000 test samples\n"
     ]
    }
   ],
   "source": [
    "x_train = x_train.astype(\"float32\") / 255\n",
    "x_test = x_test.astype(\"float32\") / 255\n",
    "\n",
    "x_train = np.expand_dims(x_train, -1)\n",
    "x_test = np.expand_dims(x_test, -1)\n",
    "print(\"x_train shape:\", x_train.shape)\n",
    "shift = 0.2"
   ]
  },
  {
   "cell_type": "markdown",
   "id": "106b5791",
   "metadata": {},
   "source": [
    "ImageDataGenerator tranforms the data we have."
   ]
  },
  {
   "cell_type": "code",
   "execution_count": 6,
   "id": "7eadfe45",
   "metadata": {},
   "outputs": [],
   "source": [
    "datagen = ImageDataGenerator(rotation_range=30,width_shift_range=shift, height_shift_range=shift)\n",
    "datagen.fit(x_train)"
   ]
  },
  {
   "cell_type": "markdown",
   "id": "de848791",
   "metadata": {},
   "source": [
    "###  Converting Classes to Binary Matrices"
   ]
  },
  {
   "cell_type": "code",
   "execution_count": 7,
   "id": "dbdc886d",
   "metadata": {},
   "outputs": [],
   "source": [
    "y_train = keras.utils.to_categorical(y_train, num_classes)\n",
    "y_test = keras.utils.to_categorical(y_test, num_classes)"
   ]
  },
  {
   "cell_type": "markdown",
   "id": "75e5dea9",
   "metadata": {},
   "source": [
    "## Model"
   ]
  },
  {
   "cell_type": "markdown",
   "id": "57955bc8",
   "metadata": {},
   "source": [
    "This creates a sequential model that has an input shape of 28x28x1, and has two convolutional layers which have filters that go through the inputs and  create an activation map from it. There are also two maxpooling layers that essentially create downsized feature maps. Also two dropout layers that 'drop' some data to prevent from overfitting."
   ]
  },
  {
   "cell_type": "code",
   "execution_count": 17,
   "id": "16906b76",
   "metadata": {},
   "outputs": [],
   "source": [
    "model = keras.Sequential(\n",
    "    [\n",
    "        keras.Input(shape=input_shape),\n",
    "        layers.Conv2D(32, kernel_size=(3, 3), activation=\"relu\"),\n",
    "        layers.MaxPooling2D(pool_size=(2, 2)),\n",
    "        layers.Dropout(0.2),\n",
    "        \n",
    "        layers.Conv2D(64, kernel_size=(3, 3), activation=\"relu\"),\n",
    "        layers.MaxPooling2D(pool_size=(2, 2)),\n",
    "        layers.Dropout(0.2),\n",
    "        \n",
    "        layers.Flatten(),\n",
    "        layers.Dense(classes, activation=\"softmax\"),\n",
    "    ]\n",
    ")"
   ]
  },
  {
   "cell_type": "code",
   "execution_count": 18,
   "id": "81885e4f",
   "metadata": {},
   "outputs": [
    {
     "name": "stdout",
     "output_type": "stream",
     "text": [
      "Model: \"sequential_1\"\n",
      "_________________________________________________________________\n",
      "Layer (type)                 Output Shape              Param #   \n",
      "=================================================================\n",
      "conv2d_5 (Conv2D)            (None, 26, 26, 32)        320       \n",
      "_________________________________________________________________\n",
      "max_pooling2d_2 (MaxPooling2 (None, 13, 13, 32)        0         \n",
      "_________________________________________________________________\n",
      "dropout_1 (Dropout)          (None, 13, 13, 32)        0         \n",
      "_________________________________________________________________\n",
      "conv2d_6 (Conv2D)            (None, 11, 11, 64)        18496     \n",
      "_________________________________________________________________\n",
      "max_pooling2d_3 (MaxPooling2 (None, 5, 5, 64)          0         \n",
      "_________________________________________________________________\n",
      "dropout_2 (Dropout)          (None, 5, 5, 64)          0         \n",
      "_________________________________________________________________\n",
      "flatten_1 (Flatten)          (None, 1600)              0         \n",
      "_________________________________________________________________\n",
      "dense_1 (Dense)              (None, 10)                16010     \n",
      "=================================================================\n",
      "Total params: 34,826\n",
      "Trainable params: 34,826\n",
      "Non-trainable params: 0\n",
      "_________________________________________________________________\n"
     ]
    }
   ],
   "source": [
    "model.summary()"
   ]
  },
  {
   "cell_type": "markdown",
   "id": "2b3aff47",
   "metadata": {},
   "source": [
    "### Training"
   ]
  },
  {
   "cell_type": "markdown",
   "id": "44a3d54b",
   "metadata": {},
   "source": [
    "The model above is ran using the data that was divided between training and testing. "
   ]
  },
  {
   "cell_type": "code",
   "execution_count": 20,
   "id": "0349b0fd",
   "metadata": {},
   "outputs": [
    {
     "name": "stdout",
     "output_type": "stream",
     "text": [
      "Epoch 1/20\n",
      "422/422 [==============================] - 20s 47ms/step - loss: 0.3301 - accuracy: 0.9014 - val_loss: 0.0895 - val_accuracy: 0.9753\n",
      "Epoch 2/20\n",
      "422/422 [==============================] - 19s 45ms/step - loss: 0.0980 - accuracy: 0.9696 - val_loss: 0.0601 - val_accuracy: 0.9830\n",
      "Epoch 3/20\n",
      "422/422 [==============================] - 19s 45ms/step - loss: 0.0760 - accuracy: 0.9767 - val_loss: 0.0518 - val_accuracy: 0.9850\n",
      "Epoch 4/20\n",
      "422/422 [==============================] - 18s 44ms/step - loss: 0.0628 - accuracy: 0.9803 - val_loss: 0.0440 - val_accuracy: 0.9872\n",
      "Epoch 5/20\n",
      "422/422 [==============================] - 19s 45ms/step - loss: 0.0554 - accuracy: 0.9828 - val_loss: 0.0387 - val_accuracy: 0.9890\n",
      "Epoch 6/20\n",
      "422/422 [==============================] - 22s 51ms/step - loss: 0.0492 - accuracy: 0.9846 - val_loss: 0.0398 - val_accuracy: 0.9885\n",
      "Epoch 7/20\n",
      "422/422 [==============================] - 19s 44ms/step - loss: 0.0468 - accuracy: 0.9856 - val_loss: 0.0384 - val_accuracy: 0.9888\n",
      "Epoch 8/20\n",
      "422/422 [==============================] - 19s 44ms/step - loss: 0.0405 - accuracy: 0.9871 - val_loss: 0.0333 - val_accuracy: 0.9905\n",
      "Epoch 9/20\n",
      "422/422 [==============================] - 19s 44ms/step - loss: 0.0385 - accuracy: 0.9875 - val_loss: 0.0338 - val_accuracy: 0.9905\n",
      "Epoch 10/20\n",
      "422/422 [==============================] - 19s 44ms/step - loss: 0.0360 - accuracy: 0.9883 - val_loss: 0.0322 - val_accuracy: 0.9900\n",
      "Epoch 11/20\n",
      "422/422 [==============================] - 19s 45ms/step - loss: 0.0325 - accuracy: 0.9899 - val_loss: 0.0322 - val_accuracy: 0.9913\n",
      "Epoch 12/20\n",
      "422/422 [==============================] - 20s 47ms/step - loss: 0.0304 - accuracy: 0.9903 - val_loss: 0.0301 - val_accuracy: 0.9922\n",
      "Epoch 13/20\n",
      "422/422 [==============================] - 19s 45ms/step - loss: 0.0283 - accuracy: 0.9910 - val_loss: 0.0337 - val_accuracy: 0.9898\n",
      "Epoch 14/20\n",
      "422/422 [==============================] - 19s 45ms/step - loss: 0.0270 - accuracy: 0.9912 - val_loss: 0.0350 - val_accuracy: 0.9907\n",
      "Epoch 15/20\n",
      "422/422 [==============================] - 20s 47ms/step - loss: 0.0244 - accuracy: 0.9919 - val_loss: 0.0313 - val_accuracy: 0.9920\n",
      "Epoch 16/20\n",
      "422/422 [==============================] - 20s 47ms/step - loss: 0.0237 - accuracy: 0.9924 - val_loss: 0.0312 - val_accuracy: 0.9913\n",
      "Epoch 17/20\n",
      "422/422 [==============================] - 21s 51ms/step - loss: 0.0212 - accuracy: 0.9928 - val_loss: 0.0367 - val_accuracy: 0.9893\n",
      "Epoch 18/20\n",
      "422/422 [==============================] - 23s 54ms/step - loss: 0.0215 - accuracy: 0.9929 - val_loss: 0.0329 - val_accuracy: 0.9925\n",
      "Epoch 19/20\n",
      "422/422 [==============================] - 21s 49ms/step - loss: 0.0199 - accuracy: 0.9937 - val_loss: 0.0339 - val_accuracy: 0.9913\n",
      "Epoch 20/20\n",
      "422/422 [==============================] - 18s 43ms/step - loss: 0.0200 - accuracy: 0.9934 - val_loss: 0.0316 - val_accuracy: 0.9917\n"
     ]
    }
   ],
   "source": [
    "batch_size = 128\n",
    "epochs = 20\n",
    "\n",
    "model.compile(loss=\"categorical_crossentropy\", optimizer=\"adam\", metrics=[\"accuracy\"])\n",
    "history = model.fit(x_train, y_train, batch_size=batch_size, epochs=epochs, validation_split=0.1)"
   ]
  },
  {
   "cell_type": "markdown",
   "id": "bcefe031",
   "metadata": {},
   "source": [
    "The accuaracy of the trained model is then evaluated, and graphed. Below and the model is also saved so it can be used later."
   ]
  },
  {
   "cell_type": "code",
   "execution_count": 29,
   "id": "c6979eef",
   "metadata": {},
   "outputs": [
    {
     "name": "stdout",
     "output_type": "stream",
     "text": [
      "Test loss: 2.55 %\n",
      "Test accuracy: 99.22 %\n"
     ]
    }
   ],
   "source": [
    "score = model.evaluate(x_test, y_test, verbose=0)\n",
    "loss = score[0]*100\n",
    "acc = score[1]*100\n",
    "print(\"Test loss: %.2f\" % loss,\"%\")\n",
    "print(\"Test accuracy: %.2f\" % acc,\"%\")\n",
    "\n",
    "model.save('final_trained_model')"
   ]
  },
  {
   "cell_type": "code",
   "execution_count": 24,
   "id": "a7d352df",
   "metadata": {},
   "outputs": [
    {
     "data": {
      "image/png": "[encoded data removed]",
      "text/plain": [
       "<Figure size 640x480 with 1 Axes>"
      ]
     },
     "metadata": {},
     "output_type": "display_data"
    }
   ],
   "source": [
    "plt.plot(history.history['accuracy'])\n",
    "plt.plot(history.history['val_accuracy'])\n",
    "plt.title('Model Accuracy')\n",
    "plt.ylabel('Accuracy')\n",
    "plt.xlabel('epoch')\n",
    "plt.legend(['Train', 'Accuracy'], loc='lower right')\n",
    "plt.show()"
   ]
  },
  {
   "cell_type": "code",
   "execution_count": 25,
   "id": "f847db8c",
   "metadata": {},
   "outputs": [
    {
     "data": {
      "image/png": "[encoded data removed]",
      "text/plain": [
       "<Figure size 640x480 with 1 Axes>"
      ]
     },
     "metadata": {},
     "output_type": "display_data"
    }
   ],
   "source": [
    "plt.plot(history.history['loss'])\n",
    "plt.plot(history.history['val_loss'])\n",
    "plt.title('Model loss')\n",
    "plt.ylabel('Loss')\n",
    "plt.xlabel('Epoch')\n",
    "plt.legend(['Train', 'Test'], loc='upper right')\n",
    "plt.show()"
   ]
  },
  {
   "cell_type": "code",
   "execution_count": null,
   "id": "f1840026",
   "metadata": {},
   "outputs": [],
   "source": []
  }
 ],
 "metadata": {
  "kernelspec": {
   "display_name": "Python 3 (ipykernel)",
   "language": "python",
   "name": "python3"
  },
  "language_info": {
   "codemirror_mode": {
    "name": "ipython",
    "version": 3
   },
   "file_extension": ".py",
   "mimetype": "text/x-python",
   "name": "python",
   "nbconvert_exporter": "python",
   "pygments_lexer": "ipython3",
   "version": "3.7.13"
  }
 },
 "nbformat": 4,
 "nbformat_minor": 5
}
